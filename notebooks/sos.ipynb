{
 "cells": [
  {
   "cell_type": "code",
   "execution_count": 10,
   "metadata": {},
   "outputs": [],
   "source": [
    "import sys, os\n",
    "sys.path.append(os.path.abspath(\"../people\"))\n",
    "\n",
    "from people import Course\n",
    "from people import Person"
   ]
  },
  {
   "cell_type": "code",
   "execution_count": 11,
   "metadata": {},
   "outputs": [
    {
     "name": "stdout",
     "output_type": "stream",
     "text": [
      "<people.course.Course object at 0x10c80dac8>\n"
     ]
    }
   ],
   "source": [
    "course = Course(\"Data Structures\")\n",
    "print(course)"
   ]
  },
  {
   "cell_type": "code",
   "execution_count": 12,
   "metadata": {},
   "outputs": [
    {
     "data": {
      "text/plain": [
       "[<people.person.Person at 0x10c82b860>,\n",
       " <people.person.Person at 0x10c82b898>,\n",
       " <people.person.Person at 0x10c82b8d0>,\n",
       " <people.person.Person at 0x10c82b908>]"
      ]
     },
     "execution_count": 12,
     "metadata": {},
     "output_type": "execute_result"
    }
   ],
   "source": [
    "test_subjects = [Person(first=s[0], last=s[1]) for s in [[\"apple\", \"awef\"], [\"ppppppp\", \"gfgag\"], [\"wdawdaw\", \"naef\"], [\"tefefefe\", \"fwef\"]]]\n",
    "test_subjects"
   ]
  },
  {
   "cell_type": "code",
   "execution_count": 13,
   "metadata": {},
   "outputs": [],
   "source": [
    "for b in test_subjects:\n",
    "    course.add_student(b)"
   ]
  },
  {
   "cell_type": "code",
   "execution_count": 14,
   "metadata": {},
   "outputs": [
    {
     "name": "stdout",
     "output_type": "stream",
     "text": [
      "apple awef\n",
      "ppppppp gfgag\n",
      "tefefefe fwef\n",
      "wdawdaw naef\n"
     ]
    }
   ],
   "source": [
    "for s in course.sort_students_alphabetically():\n",
    "    print(s.name)"
   ]
  },
  {
   "cell_type": "code",
   "execution_count": 15,
   "metadata": {},
   "outputs": [
    {
     "name": "stdout",
     "output_type": "stream",
     "text": [
      "False\n"
     ]
    }
   ],
   "source": [
    "print(course.is_nano_in_class('aple'))"
   ]
  }
 ],
 "metadata": {
  "kernelspec": {
   "display_name": "Python 3",
   "language": "python",
   "name": "python3"
  }
 },
 "nbformat": 4,
 "nbformat_minor": 2
}
